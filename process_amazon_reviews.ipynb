{
 "cells": [
  {
   "cell_type": "code",
   "execution_count": 21,
   "id": "a35f4161a3b863b4",
   "metadata": {
    "ExecuteTime": {
     "end_time": "2024-08-14T15:32:50.355717Z",
     "start_time": "2024-08-14T15:32:47.164940Z"
    }
   },
   "outputs": [
    {
     "name": "stdout",
     "output_type": "stream",
     "text": [
      "   Id   ProductId          UserId                      ProfileName  \\\n",
      "0   1  B001E4KFG0  A3SGXH7AUHU8GW                       delmartian   \n",
      "1   2  B00813GRG4  A1D87F6ZCVE5NK                           dll pa   \n",
      "2   3  B000LQOCH0   ABXLMWJIXXAIN  Natalia Corres \"Natalia Corres\"   \n",
      "3   4  B000UA0QIQ  A395BORC6FGVXV                             Karl   \n",
      "4   5  B006K2ZZ7K  A1UQRSCLF8GW1T    Michael D. Bigham \"M. Wassir\"   \n",
      "\n",
      "   HelpfulnessNumerator  HelpfulnessDenominator  Score        Time  \\\n",
      "0                     1                       1      5  1303862400   \n",
      "1                     0                       0      1  1346976000   \n",
      "2                     1                       1      4  1219017600   \n",
      "3                     3                       3      2  1307923200   \n",
      "4                     0                       0      5  1350777600   \n",
      "\n",
      "                 Summary                                               Text  \n",
      "0  Good Quality Dog Food  I have bought several of the Vitality canned d...  \n",
      "1      Not as Advertised  Product arrived labeled as Jumbo Salted Peanut...  \n",
      "2  \"Delight\" says it all  This is a confection that has been around a fe...  \n",
      "3         Cough Medicine  If you are looking for the secret ingredient i...  \n",
      "4            Great taffy  Great taffy at a great price.  There was a wid...  \n"
     ]
    }
   ],
   "source": [
    "import pandas as pd\n",
    "import re\n",
    "import nltk\n",
    "\n",
    "datapath = \"/Users/richardjiang/Downloads/Unfinished Tutorials/Generative AI Mastery/Reviews.csv\"\n",
    "df = pd.read_csv(datapath)\n",
    "# print(df.dtypes)\n",
    "\n",
    "print(df.head())"
   ]
  },
  {
   "cell_type": "code",
   "execution_count": 22,
   "id": "796d2fe1f0abe15",
   "metadata": {
    "ExecuteTime": {
     "end_time": "2024-08-14T15:17:02.095249Z",
     "start_time": "2024-08-14T15:17:02.047866Z"
    }
   },
   "outputs": [],
   "source": [
    "df.drop(columns=['ProductId', 'UserId', 'ProfileName', 'Id'], inplace=True)"
   ]
  },
  {
   "cell_type": "code",
   "execution_count": 23,
   "id": "a6aca2d3609f714a",
   "metadata": {
    "ExecuteTime": {
     "end_time": "2024-08-14T15:23:33.031530Z",
     "start_time": "2024-08-14T15:23:32.925688Z"
    }
   },
   "outputs": [],
   "source": [
    "df[\"Helpfulness-Ratio\"] = df[\"HelpfulnessNumerator\"] / df[\"HelpfulnessDenominator\"]\n",
    "df[\"Helpfulness-Ratio\"] = df[\"Helpfulness-Ratio\"].fillna(df[\"Helpfulness-Ratio\"].mean())"
   ]
  },
  {
   "cell_type": "code",
   "execution_count": 24,
   "id": "7484a3d603f3d752",
   "metadata": {
    "ExecuteTime": {
     "end_time": "2024-08-14T15:23:49.104015Z",
     "start_time": "2024-08-14T15:23:49.070819Z"
    }
   },
   "outputs": [
    {
     "data": {
      "text/plain": [
       "HelpfulnessNumerator       0\n",
       "HelpfulnessDenominator     0\n",
       "Score                      0\n",
       "Time                       0\n",
       "Summary                   27\n",
       "Text                       0\n",
       "Helpfulness-Ratio          0\n",
       "dtype: int64"
      ]
     },
     "execution_count": 24,
     "metadata": {},
     "output_type": "execute_result"
    }
   ],
   "source": [
    "df.isnull().sum()"
   ]
  },
  {
   "cell_type": "code",
   "execution_count": 26,
   "id": "e2711b115b651dcb",
   "metadata": {
    "ExecuteTime": {
     "end_time": "2024-08-14T15:28:15.833785Z",
     "start_time": "2024-08-14T15:28:15.807915Z"
    }
   },
   "outputs": [
    {
     "name": "stderr",
     "output_type": "stream",
     "text": [
      "/var/folders/x0/5z5dngvn6xsbn1w74_fh9z880000gn/T/ipykernel_67558/2409488285.py:1: FutureWarning: A value is trying to be set on a copy of a DataFrame or Series through chained assignment using an inplace method.\n",
      "The behavior will change in pandas 3.0. This inplace method will never work because the intermediate object on which we are setting values always behaves as a copy.\n",
      "\n",
      "For example, when doing 'df[col].method(value, inplace=True)', try using 'df.method({col: value}, inplace=True)' or df[col] = df[col].method(value) instead, to perform the operation inplace on the original object.\n",
      "\n",
      "\n",
      "  df[\"Summary\"].fillna(\"No summary provided\", inplace=True)\n"
     ]
    }
   ],
   "source": [
    "df[\"Summary\"].fillna(\"No summary provided\", inplace=True)"
   ]
  },
  {
   "cell_type": "code",
   "execution_count": 27,
   "id": "2e07c2e47fd9972c",
   "metadata": {
    "ExecuteTime": {
     "end_time": "2024-08-14T15:28:32.866862Z",
     "start_time": "2024-08-14T15:28:32.787267Z"
    }
   },
   "outputs": [
    {
     "data": {
      "text/plain": [
       "HelpfulnessNumerator      0\n",
       "HelpfulnessDenominator    0\n",
       "Score                     0\n",
       "Time                      0\n",
       "Summary                   0\n",
       "Text                      0\n",
       "Helpfulness-Ratio         0\n",
       "dtype: int64"
      ]
     },
     "execution_count": 27,
     "metadata": {},
     "output_type": "execute_result"
    }
   ],
   "source": [
    "df.isnull().sum()"
   ]
  },
  {
   "cell_type": "code",
   "execution_count": 28,
   "id": "a7c753c32afb5c33",
   "metadata": {
    "ExecuteTime": {
     "end_time": "2024-08-14T15:28:45.720599Z",
     "start_time": "2024-08-14T15:28:45.717645Z"
    }
   },
   "outputs": [
    {
     "data": {
      "text/plain": [
       "0         5\n",
       "1         1\n",
       "2         4\n",
       "3         2\n",
       "4         5\n",
       "         ..\n",
       "568449    5\n",
       "568450    2\n",
       "568451    5\n",
       "568452    5\n",
       "568453    5\n",
       "Name: Score, Length: 568454, dtype: int64"
      ]
     },
     "execution_count": 28,
     "metadata": {},
     "output_type": "execute_result"
    }
   ],
   "source": [
    "df[\"Score\"]"
   ]
  },
  {
   "cell_type": "code",
   "execution_count": 29,
   "id": "95e51cfba9f73452",
   "metadata": {
    "ExecuteTime": {
     "end_time": "2024-08-14T15:40:09.106516Z",
     "start_time": "2024-08-14T15:40:09.100855Z"
    }
   },
   "outputs": [
    {
     "name": "stderr",
     "output_type": "stream",
     "text": [
      "[nltk_data] Downloading package stopwords to\n",
      "[nltk_data]     /Users/richardjiang/nltk_data...\n",
      "[nltk_data]   Package stopwords is already up-to-date!\n",
      "[nltk_data] Downloading package punkt to\n",
      "[nltk_data]     /Users/richardjiang/nltk_data...\n",
      "[nltk_data]   Package punkt is already up-to-date!\n"
     ]
    }
   ],
   "source": [
    "from nltk.corpus import stopwords\n",
    "\n",
    "nltk.download('stopwords')\n",
    "nltk.download('punkt')\n",
    "\n",
    "def tokenize(text):\n",
    "    if not isinstance(text, str):\n",
    "        return []\n",
    "    \n",
    "    text = re.sub(r\"[^a-zA-Z0-9]\", \" \", text.lower())\n",
    "    text = re.sub(r\"what's\", \"what is \", text)\n",
    "    text = re.sub(r\"what've\", \"what is ve\", text)\n",
    "    text = re.sub(r\"where's\", \"where is \", text)\n",
    "    text = re.sub(r\"when's\", \"when is \", text)\n",
    "    text = re.sub(r'@\\w+', '', text)\n",
    "    text = re.sub(r'#\\w+', '', text)\n",
    "    text = re.sub(r'\\W+', ' ', text)\n",
    "    \n",
    "    text.lower()\n",
    "    tokens = nltk.word_tokenize(text)\n",
    "    \n",
    "    return tokens"
   ]
  },
  {
   "cell_type": "code",
   "execution_count": 30,
   "id": "a453694d3acb5bed",
   "metadata": {
    "ExecuteTime": {
     "end_time": "2024-08-14T15:40:39.743370Z",
     "start_time": "2024-08-14T15:40:17.136673Z"
    }
   },
   "outputs": [],
   "source": [
    "df[\"Text\"] = df[\"Text\"].apply(tokenize)\n",
    "df[\"Summary\"] = df[\"Summary\"].apply(lambda x: str(x) if isinstance(x, str) else \"\")\n",
    "df[\"Summary\"] = df[\"Summary\"].apply(tokenize)\n",
    "\n",
    "stop_words = set(stopwords.words('english'))\n",
    "df[\"Text\"] = df[\"Text\"].apply(lambda x: [word for word in x if word not in stop_words])"
   ]
  },
  {
   "cell_type": "code",
   "execution_count": 31,
   "id": "65c03988",
   "metadata": {},
   "outputs": [
    {
     "data": {
      "text/html": [
       "<div>\n",
       "<style scoped>\n",
       "    .dataframe tbody tr th:only-of-type {\n",
       "        vertical-align: middle;\n",
       "    }\n",
       "\n",
       "    .dataframe tbody tr th {\n",
       "        vertical-align: top;\n",
       "    }\n",
       "\n",
       "    .dataframe thead th {\n",
       "        text-align: right;\n",
       "    }\n",
       "</style>\n",
       "<table border=\"1\" class=\"dataframe\">\n",
       "  <thead>\n",
       "    <tr style=\"text-align: right;\">\n",
       "      <th></th>\n",
       "      <th>HelpfulnessNumerator</th>\n",
       "      <th>HelpfulnessDenominator</th>\n",
       "      <th>Score</th>\n",
       "      <th>Time</th>\n",
       "      <th>Summary</th>\n",
       "      <th>Text</th>\n",
       "      <th>Helpfulness-Ratio</th>\n",
       "    </tr>\n",
       "  </thead>\n",
       "  <tbody>\n",
       "    <tr>\n",
       "      <th>0</th>\n",
       "      <td>1</td>\n",
       "      <td>1</td>\n",
       "      <td>5</td>\n",
       "      <td>1303862400</td>\n",
       "      <td>[good, quality, dog, food]</td>\n",
       "      <td>[bought, several, vitality, canned, dog, food,...</td>\n",
       "      <td>1.000000</td>\n",
       "    </tr>\n",
       "    <tr>\n",
       "      <th>1</th>\n",
       "      <td>0</td>\n",
       "      <td>0</td>\n",
       "      <td>1</td>\n",
       "      <td>1346976000</td>\n",
       "      <td>[not, as, advertised]</td>\n",
       "      <td>[product, arrived, labeled, jumbo, salted, pea...</td>\n",
       "      <td>0.776975</td>\n",
       "    </tr>\n",
       "    <tr>\n",
       "      <th>2</th>\n",
       "      <td>1</td>\n",
       "      <td>1</td>\n",
       "      <td>4</td>\n",
       "      <td>1219017600</td>\n",
       "      <td>[delight, says, it, all]</td>\n",
       "      <td>[confection, around, centuries, light, pillowy...</td>\n",
       "      <td>1.000000</td>\n",
       "    </tr>\n",
       "    <tr>\n",
       "      <th>3</th>\n",
       "      <td>3</td>\n",
       "      <td>3</td>\n",
       "      <td>2</td>\n",
       "      <td>1307923200</td>\n",
       "      <td>[cough, medicine]</td>\n",
       "      <td>[looking, secret, ingredient, robitussin, beli...</td>\n",
       "      <td>1.000000</td>\n",
       "    </tr>\n",
       "    <tr>\n",
       "      <th>4</th>\n",
       "      <td>0</td>\n",
       "      <td>0</td>\n",
       "      <td>5</td>\n",
       "      <td>1350777600</td>\n",
       "      <td>[great, taffy]</td>\n",
       "      <td>[great, taffy, great, price, wide, assortment,...</td>\n",
       "      <td>0.776975</td>\n",
       "    </tr>\n",
       "  </tbody>\n",
       "</table>\n",
       "</div>"
      ],
      "text/plain": [
       "   HelpfulnessNumerator  HelpfulnessDenominator  Score        Time  \\\n",
       "0                     1                       1      5  1303862400   \n",
       "1                     0                       0      1  1346976000   \n",
       "2                     1                       1      4  1219017600   \n",
       "3                     3                       3      2  1307923200   \n",
       "4                     0                       0      5  1350777600   \n",
       "\n",
       "                      Summary  \\\n",
       "0  [good, quality, dog, food]   \n",
       "1       [not, as, advertised]   \n",
       "2    [delight, says, it, all]   \n",
       "3           [cough, medicine]   \n",
       "4              [great, taffy]   \n",
       "\n",
       "                                                Text  Helpfulness-Ratio  \n",
       "0  [bought, several, vitality, canned, dog, food,...           1.000000  \n",
       "1  [product, arrived, labeled, jumbo, salted, pea...           0.776975  \n",
       "2  [confection, around, centuries, light, pillowy...           1.000000  \n",
       "3  [looking, secret, ingredient, robitussin, beli...           1.000000  \n",
       "4  [great, taffy, great, price, wide, assortment,...           0.776975  "
      ]
     },
     "execution_count": 31,
     "metadata": {},
     "output_type": "execute_result"
    }
   ],
   "source": [
    "df.head()"
   ]
  }
 ],
 "metadata": {
  "kernelspec": {
   "display_name": "Python 3",
   "language": "python",
   "name": "python3"
  },
  "language_info": {
   "codemirror_mode": {
    "name": "ipython",
    "version": 3
   },
   "file_extension": ".py",
   "mimetype": "text/x-python",
   "name": "python",
   "nbconvert_exporter": "python",
   "pygments_lexer": "ipython3",
   "version": "3.11.0"
  }
 },
 "nbformat": 4,
 "nbformat_minor": 5
}
